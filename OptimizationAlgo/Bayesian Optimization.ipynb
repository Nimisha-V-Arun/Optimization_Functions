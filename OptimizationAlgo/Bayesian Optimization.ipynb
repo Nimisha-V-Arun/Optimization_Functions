{
 "cells": [
  {
   "cell_type": "markdown",
   "metadata": {},
   "source": [
    " ## Introdution to Bayesian Optimization\n",
    " \n",
    " Bayesian Optimization is also called as Sequential Model Bayesian Optimization. This builds the *Probability Model of the **Objective Function that maps input values to probability loss:** p (loss | input values) *\n",
    "* The probability model is easier to optimise than the objective function.\n",
    "* The concept is to limit evals of the objective function by spending more time choosing the next values to try.\n",
    "\n",
    " \n",
    " **BayesOpt** is a library with state-of-the-art Bayesian optimization methods to solve nonlinear optimization, stochastic bandits or sequential experimental design problems\n",
    " \n",
    " * Bayesian Optimization is a special case of nonlinear optimization where the algorithm decides which point to explore next based on the analysis of a distribution over functions P(f), for example a Gaussian process or other surrogate model.\n",
    " * Each observation improves the knowledge of the function in all the input space.\n",
    " * It requires a lower number of iterations.\n",
    " * updating the posterior distribution and maximizing the acquisition function increases the cost per sample.\n",
    " * Normally used to optimize expensive target functions f(·),\n",
    " * Bayesian model-based optimization is intuitive: choose the next input values to evaluate based on the past results to concentrate the search on more promising values.\n",
    " * The end outcome is a reduction in the total number of search iterations compared to uninformed random or grid search methods\n",
    " \n",
    " The Gaussian process (GP) is a convenient and powerful prior distribution on functions, which we\n",
    "will take here to be of the form f : X → R. T\n",
    " \n",
    " \n",
    " References:\n",
    " \n",
    "* https://github.com/fmfn/BayesianOptimization\n",
    " \n",
    "* https://arxiv.org/pdf/1012.2599v1.pdf"
   ]
  },
  {
   "cell_type": "markdown",
   "metadata": {},
   "source": [
    "** This is a constrained optimization technique, therefore we need to specify the bounds the parameters of the function that we need to optimize. **\n",
    "<br>\n",
    "Input to the function:\n",
    "<br>\n",
    "`f`: The function to be optimized<br>\n",
    "`pbounds` : is a dictionary used to specify the boundary of the params"
   ]
  },
  {
   "cell_type": "code",
   "execution_count": 1,
   "metadata": {},
   "outputs": [],
   "source": [
    "import numpy as np\n",
    "\n",
    "import matplotlib.pyplot as plt\n",
    "from bayes_opt import BayesianOptimization\n"
   ]
  },
  {
   "cell_type": "code",
   "execution_count": 2,
   "metadata": {},
   "outputs": [],
   "source": [
    "def OptimizetheFunction(func,pbounds):\n",
    "    bo = BayesianOptimization(f = func,\n",
    "                                  pbounds = pbounds,\n",
    "                                  verbose = 2,#minimization verbose 1:max, 0:silent\n",
    "                                  random_state = 1\n",
    "                                  )\n",
    "    bo.maximize(n_iter = 10)\n",
    "    print(\"Maximum:\",bo.max,\"\\n\")\n",
    "    for i, res in enumerate(bo.res):\n",
    "        print(\"Iteration {}: \\n\\t{}\\n\".format(i, res))\n",
    "        \n",
    "#     bo.set_bounds(new_bounds={\"x\": (-2, 3)})\n",
    "#     bo.maximize(n_iter = 3)"
   ]
  },
  {
   "cell_type": "markdown",
   "metadata": {},
   "source": [
    "*** Let's make use of the Black box function to have a better understanding***"
   ]
  },
  {
   "cell_type": "markdown",
   "metadata": {},
   "source": [
    "*Consider the given blackboxfunction:*\n",
    "$$f(x) = e^{-(x - 2)^2} + e^{-\\frac{(x - 6)^2}{10}} + \\frac{1}{x^{-2} + 1} + \\frac{1}{1+e^{-2}}, $$"
   ]
  },
  {
   "cell_type": "code",
   "execution_count": 3,
   "metadata": {},
   "outputs": [],
   "source": [
    "def blackboxfunction(x):\n",
    "    '''Kindly note that this a reference\n",
    "    function that we need to optimize. '''\n",
    "    return np.exp(-(x - 2)**2) + np.exp(-(x - 6)**2/10) + 1/ (x**(-2) + 1) + 1/(1+np.exp(-2))\n"
   ]
  },
  {
   "cell_type": "code",
   "execution_count": 4,
   "metadata": {},
   "outputs": [
    {
     "name": "stdout",
     "output_type": "stream",
     "text": [
      "[[-2.        ]\n",
      " [-1.99879988]\n",
      " [-1.99759976]\n",
      " ...\n",
      " [ 9.99759976]\n",
      " [ 9.99879988]\n",
      " [10.        ]]\n"
     ]
    },
    {
     "data": {
      "image/png": "[encoded data removed]",
      "text/plain": [
       "<Figure size 432x288 with 1 Axes>"
      ]
     },
     "metadata": {},
     "output_type": "display_data"
    }
   ],
   "source": [
    "x = np.linspace(-2, 10, 10000).reshape(-1, 1)\n",
    "\n",
    "y = blackboxfunction(x)\n",
    "print(x)\n",
    "plt.plot(x, y)\n",
    "plt.show()"
   ]
  },
  {
   "cell_type": "code",
   "execution_count": 5,
   "metadata": {},
   "outputs": [
    {
     "name": "stdout",
     "output_type": "stream",
     "text": [
      "Finding the maximum value of the blackboxfuntion:\n",
      "|   iter    |  target   |     x     |\n",
      "-------------------------------------\n",
      "| \u001b[0m 1       \u001b[0m | \u001b[0m 2.553   \u001b[0m | \u001b[0m 3.004   \u001b[0m |\n",
      "| \u001b[95m 2       \u001b[0m | \u001b[95m 2.818   \u001b[0m | \u001b[95m 6.644   \u001b[0m |\n",
      "| \u001b[0m 3       \u001b[0m | \u001b[0m 1.682   \u001b[0m | \u001b[0m-1.999   \u001b[0m |\n",
      "| \u001b[0m 4       \u001b[0m | \u001b[0m 2.625   \u001b[0m | \u001b[0m 1.628   \u001b[0m |\n",
      "| \u001b[0m 5       \u001b[0m | \u001b[0m 0.9618  \u001b[0m | \u001b[0m-0.2389  \u001b[0m |\n",
      "| \u001b[0m 6       \u001b[0m | \u001b[0m 2.319   \u001b[0m | \u001b[0m 8.821   \u001b[0m |\n",
      "| \u001b[0m 7       \u001b[0m | \u001b[0m 2.749   \u001b[0m | \u001b[0m 5.008   \u001b[0m |\n",
      "| \u001b[0m 8       \u001b[0m | \u001b[0m 2.073   \u001b[0m | \u001b[0m 10.0    \u001b[0m |\n",
      "| \u001b[0m 9       \u001b[0m | \u001b[0m 2.645   \u001b[0m | \u001b[0m 7.569   \u001b[0m |\n",
      "| \u001b[95m 10      \u001b[0m | \u001b[95m 2.848   \u001b[0m | \u001b[95m 5.811   \u001b[0m |\n",
      "| \u001b[95m 11      \u001b[0m | \u001b[95m 2.903   \u001b[0m | \u001b[95m 2.232   \u001b[0m |\n",
      "| \u001b[0m 12      \u001b[0m | \u001b[0m 2.851   \u001b[0m | \u001b[0m 6.208   \u001b[0m |\n",
      "| \u001b[95m 13      \u001b[0m | \u001b[95m 2.904   \u001b[0m | \u001b[95m 2.095   \u001b[0m |\n",
      "| \u001b[95m 14      \u001b[0m | \u001b[95m 2.908   \u001b[0m | \u001b[95m 2.16    \u001b[0m |\n",
      "| \u001b[95m 15      \u001b[0m | \u001b[95m 2.908   \u001b[0m | \u001b[95m 2.16    \u001b[0m |\n",
      "=====================================\n",
      "Maximum: {'target': 2.9078976225897213, 'params': {'x': 2.1599713103670783}} \n",
      "\n",
      "Iteration 0: \n",
      "\t{'target': 2.553411712862416, 'params': {'x': 3.0042640564308876}}\n",
      "\n",
      "Iteration 1: \n",
      "\t{'target': 2.8180321979042997, 'params': {'x': 6.643893921305898}}\n",
      "\n",
      "Iteration 2: \n",
      "\t{'target': 1.6822426359793516, 'params': {'x': -1.9986275021918614}}\n",
      "\n",
      "Iteration 3: \n",
      "\t{'target': 2.62547576591321, 'params': {'x': 1.6279908715820772}}\n",
      "\n",
      "Iteration 4: \n",
      "\t{'target': 0.9618494102628029, 'params': {'x': -0.23892931019464347}}\n",
      "\n",
      "Iteration 5: \n",
      "\t{'target': 2.319276330070085, 'params': {'x': 8.821199711973184}}\n",
      "\n",
      "Iteration 6: \n",
      "\t{'target': 2.7488757264057533, 'params': {'x': 5.008123713842244}}\n",
      "\n",
      "Iteration 7: \n",
      "\t{'target': 2.072792605873528, 'params': {'x': 10.0}}\n",
      "\n",
      "Iteration 8: \n",
      "\t{'target': 2.645386054442491, 'params': {'x': 7.569165614448325}}\n",
      "\n",
      "Iteration 9: \n",
      "\t{'target': 2.848471259428684, 'params': {'x': 5.8110365424774075}}\n",
      "\n",
      "Iteration 10: \n",
      "\t{'target': 2.902947875709227, 'params': {'x': 2.232312776646571}}\n",
      "\n",
      "Iteration 11: \n",
      "\t{'target': 2.8512011719397927, 'params': {'x': 6.207627895173866}}\n",
      "\n",
      "Iteration 12: \n",
      "\t{'target': 2.9038761695997213, 'params': {'x': 2.094869429765161}}\n",
      "\n",
      "Iteration 13: \n",
      "\t{'target': 2.907896575824724, 'params': {'x': 2.1604962783817117}}\n",
      "\n",
      "Iteration 14: \n",
      "\t{'target': 2.9078976225897213, 'params': {'x': 2.1599713103670783}}\n",
      "\n"
     ]
    }
   ],
   "source": [
    "# Bounded region of parameter space\n",
    "pbounds = {'x': (-2, 10)}\n",
    "print(\"Finding the maximum value of the blackboxfuntion:\")\n",
    "OptimizetheFunction(blackboxfunction,pbounds)"
   ]
  },
  {
   "cell_type": "markdown",
   "metadata": {},
   "source": [
    "### Let's try one more function:"
   ]
  },
  {
   "cell_type": "markdown",
   "metadata": {},
   "source": [
    "*Consider the given objective1 function:*\n",
    "$$f(x) = \\sin(x) + \\sin \\left(\\frac{10}{3}x \\right)$$"
   ]
  },
  {
   "cell_type": "code",
   "execution_count": 7,
   "metadata": {},
   "outputs": [],
   "source": [
    "def objective1(x):\n",
    "    out = np.sin(x) + np.sin((10/3)*x)\n",
    "    return out"
   ]
  },
  {
   "cell_type": "code",
   "execution_count": 8,
   "metadata": {},
   "outputs": [
    {
     "name": "stdout",
     "output_type": "stream",
     "text": [
      "[[2.7       ]\n",
      " [2.70048005]\n",
      " [2.7009601 ]\n",
      " ...\n",
      " [7.4990399 ]\n",
      " [7.49951995]\n",
      " [7.5       ]]\n"
     ]
    },
    {
     "data": {
      "image/png": "[encoded data removed]",
      "text/plain": [
       "<Figure size 432x288 with 1 Axes>"
      ]
     },
     "metadata": {},
     "output_type": "display_data"
    }
   ],
   "source": [
    "\n",
    "x = np.linspace(2.7, 7.5, 10000).reshape(-1, 1)\n",
    "y = objective1(x)\n",
    "print(x)\n",
    "plt.plot(x, y)\n",
    "plt.show()\n"
   ]
  },
  {
   "cell_type": "code",
   "execution_count": 9,
   "metadata": {},
   "outputs": [
    {
     "name": "stdout",
     "output_type": "stream",
     "text": [
      "Finding the maximum value of the objective1:\n",
      "|   iter    |  target   |     x     |\n",
      "-------------------------------------\n",
      "| \u001b[0m 1       \u001b[0m | \u001b[0m-0.9643  \u001b[0m | \u001b[0m 4.702   \u001b[0m |\n",
      "| \u001b[95m 2       \u001b[0m | \u001b[95m 0.8692  \u001b[0m | \u001b[95m 6.158   \u001b[0m |\n",
      "| \u001b[0m 3       \u001b[0m | \u001b[0m 0.8373  \u001b[0m | \u001b[0m 2.701   \u001b[0m |\n",
      "| \u001b[0m 4       \u001b[0m | \u001b[0m 0.1088  \u001b[0m | \u001b[0m 4.151   \u001b[0m |\n",
      "| \u001b[0m 5       \u001b[0m | \u001b[0m-1.198   \u001b[0m | \u001b[0m 3.404   \u001b[0m |\n",
      "| \u001b[0m 6       \u001b[0m | \u001b[0m 0.8692  \u001b[0m | \u001b[0m 6.158   \u001b[0m |\n",
      "| \u001b[0m 7       \u001b[0m | \u001b[0m 0.7914  \u001b[0m | \u001b[0m 6.357   \u001b[0m |\n",
      "| \u001b[0m 8       \u001b[0m | \u001b[0m-0.2584  \u001b[0m | \u001b[0m 7.107   \u001b[0m |\n",
      "| \u001b[0m 9       \u001b[0m | \u001b[0m-0.6864  \u001b[0m | \u001b[0m 5.631   \u001b[0m |\n",
      "| \u001b[0m 10      \u001b[0m | \u001b[0m 0.8056  \u001b[0m | \u001b[0m 7.5     \u001b[0m |\n",
      "| \u001b[0m 11      \u001b[0m | \u001b[0m 0.1192  \u001b[0m | \u001b[0m 6.678   \u001b[0m |\n",
      "| \u001b[0m 12      \u001b[0m | \u001b[0m-0.09039 \u001b[0m | \u001b[0m 2.922   \u001b[0m |\n",
      "| \u001b[0m 13      \u001b[0m | \u001b[0m 0.6308  \u001b[0m | \u001b[0m 5.999   \u001b[0m |\n",
      "| \u001b[95m 14      \u001b[0m | \u001b[95m 0.8835  \u001b[0m | \u001b[95m 6.248   \u001b[0m |\n",
      "| \u001b[95m 15      \u001b[0m | \u001b[95m 0.8879  \u001b[0m | \u001b[95m 6.209   \u001b[0m |\n",
      "=====================================\n",
      "Maximum: {'target': 0.8879274676286978, 'params': {'x': 6.208745676804479}} \n",
      "\n",
      "Iteration 0: \n",
      "\t{'target': -0.9643392670548345, 'params': {'x': 4.701705622572355}}\n",
      "\n",
      "Iteration 1: \n",
      "\t{'target': 0.8692118065224982, 'params': {'x': 6.157557568522359}}\n",
      "\n",
      "Iteration 2: \n",
      "\t{'target': 0.8373339114257847, 'params': {'x': 2.7005489991232556}}\n",
      "\n",
      "Iteration 3: \n",
      "\t{'target': 0.10876105409057346, 'params': {'x': 4.151196348632831}}\n",
      "\n",
      "Iteration 4: \n",
      "\t{'target': -1.198325472164309, 'params': {'x': 3.4044282759221427}}\n",
      "\n",
      "Iteration 5: \n",
      "\t{'target': 0.8692047554144886, 'params': {'x': 6.157546608593012}}\n",
      "\n",
      "Iteration 6: \n",
      "\t{'target': 0.7914281838334217, 'params': {'x': 6.357359073984371}}\n",
      "\n",
      "Iteration 7: \n",
      "\t{'target': -0.25844442782243093, 'params': {'x': 7.106659901521388}}\n",
      "\n",
      "Iteration 8: \n",
      "\t{'target': -0.6863714624126855, 'params': {'x': 5.631006123164365}}\n",
      "\n",
      "Iteration 9: \n",
      "\t{'target': 0.8056482266769659, 'params': {'x': 7.5}}\n",
      "\n",
      "Iteration 10: \n",
      "\t{'target': 0.11920130242608129, 'params': {'x': 6.67791772738535}}\n",
      "\n",
      "Iteration 11: \n",
      "\t{'target': -0.0903850989474789, 'params': {'x': 2.9215633146501845}}\n",
      "\n",
      "Iteration 12: \n",
      "\t{'target': 0.6308423134619283, 'params': {'x': 5.998844677981375}}\n",
      "\n",
      "Iteration 13: \n",
      "\t{'target': 0.8834718526661768, 'params': {'x': 6.247791145076197}}\n",
      "\n",
      "Iteration 14: \n",
      "\t{'target': 0.8879274676286978, 'params': {'x': 6.208745676804479}}\n",
      "\n"
     ]
    }
   ],
   "source": [
    "# Bounded region of parameter space\n",
    "pbounds = {'x': (2.7, 7.5)}\n",
    "print(\"Finding the maximum value of the objective1:\")\n",
    "OptimizetheFunction(objective1,pbounds)"
   ]
  }
 ],
 "metadata": {
  "kernelspec": {
   "display_name": "Python 3",
   "language": "python",
   "name": "python3"
  },
  "language_info": {
   "codemirror_mode": {
    "name": "ipython",
    "version": 3
   },
   "file_extension": ".py",
   "mimetype": "text/x-python",
   "name": "python",
   "nbconvert_exporter": "python",
   "pygments_lexer": "ipython3",
   "version": "3.6.5"
  }
 },
 "nbformat": 4,
 "nbformat_minor": 2
}
